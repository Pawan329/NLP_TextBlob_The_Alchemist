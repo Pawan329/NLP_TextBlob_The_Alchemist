{
 "cells": [
  {
   "cell_type": "markdown",
   "metadata": {},
   "source": [
    "# Insights\n",
    "## Text Analysis of \"THE ALCHEMIST\" by Paulo Coelho\n",
    "- In this Jupyter Notebook i am going to do text analysis by using NLP\n",
    "### Index:\n",
    "- Reading text file.\n",
    "- Conversion of text in TextBlob type.\n",
    "- lowering all text.\n",
    "- counting repeatation of words.\n",
    "- N-gram (3 consecutive words)\n",
    "- POS (Part of Speech tagging)\n",
    "- Polarity of sentence\n",
    "- 1. Printing each sentence of entire book with polarity score (-ve sentiment or +ve sentiment)\n",
    "- 2. Printing only Positive polarity sentences with polarity score.\n",
    "- 3. Printing only Negative polarity sentences with polarity score.\n"
   ]
  },
  {
   "cell_type": "markdown",
   "metadata": {},
   "source": [
    "# Importing Textblob"
   ]
  },
  {
   "cell_type": "code",
   "execution_count": 72,
   "metadata": {},
   "outputs": [],
   "source": [
    "from textblob import TextBlob"
   ]
  },
  {
   "cell_type": "markdown",
   "metadata": {},
   "source": [
    "### Reading Text file"
   ]
  },
  {
   "cell_type": "code",
   "execution_count": 73,
   "metadata": {},
   "outputs": [],
   "source": [
    "text = open('THE_ALCHEMIST.txt',encoding=\"utf8\")"
   ]
  },
  {
   "cell_type": "code",
   "execution_count": 74,
   "metadata": {},
   "outputs": [],
   "source": [
    "text = text.read()"
   ]
  },
  {
   "cell_type": "markdown",
   "metadata": {},
   "source": [
    "### Conversion of text in TextBlob type."
   ]
  },
  {
   "cell_type": "code",
   "execution_count": 33,
   "metadata": {
    "scrolled": true
   },
   "outputs": [],
   "source": [
    "blob = TextBlob(text)"
   ]
  },
  {
   "cell_type": "code",
   "execution_count": 122,
   "metadata": {},
   "outputs": [
    {
     "data": {
      "text/plain": [
       "81643"
      ]
     },
     "execution_count": 122,
     "metadata": {},
     "output_type": "execute_result"
    }
   ],
   "source": [
    "len(blob)"
   ]
  },
  {
   "cell_type": "markdown",
   "metadata": {},
   "source": [
    "# Out of 81643 words considering only 5000 words to avoid more scrolling"
   ]
  },
  {
   "cell_type": "code",
   "execution_count": 128,
   "metadata": {},
   "outputs": [],
   "source": [
    "blob = blob[0:5000]"
   ]
  },
  {
   "cell_type": "code",
   "execution_count": 129,
   "metadata": {},
   "outputs": [
    {
     "name": "stdout",
     "output_type": "stream",
     "text": [
      "5000\n"
     ]
    }
   ],
   "source": [
    "print(len(blob))"
   ]
  },
  {
   "cell_type": "markdown",
   "metadata": {},
   "source": [
    "### lowering all text."
   ]
  },
  {
   "cell_type": "code",
   "execution_count": 130,
   "metadata": {},
   "outputs": [],
   "source": [
    "blob = blob.lower()"
   ]
  },
  {
   "cell_type": "code",
   "execution_count": 132,
   "metadata": {},
   "outputs": [
    {
     "name": "stdout",
     "output_type": "stream",
     "text": [
      "there are some books that go beyond being special. jonathan livingston seagull, the\n",
      "little prince, conversations with god and the prophet would all make the list. i’d like\n",
      "to add one more, the alchemist by paulo coelho. it is the story of santiago, a shepard in\n",
      "spain. he sets off to find a treasure by the pyramids in egypt that is spoken of in a\n",
      "reoccurring dream. a story as old as the pyramids themselves. along the way, he finds\n",
      "out that his journey is about discovering his personal legend, touching the soul of the\n",
      "world, and learning what love is really about; as well as getting the loot. we learn as we\n",
      "travel with santiago many of the valuable lessons of life, and uncover many of the\n",
      "mysteries. “the wise men understood that this natural world is only an image and a copy\n",
      "of paradise. the existence of this world is simply a guarantee that there exists a world\n",
      "that is perfect. god created the world so that, through its visible objects, men could\n",
      "understand his spiritual teachings and the marvels of his wisdom.” now come with\n",
      "santiago and me as we stroll the fields of spain, and ride on camel and horseback\n",
      "through the sands of the great african desert. and, learn as he did, “i’m an adventurer,\n",
      "looking for treasure.” the adventure awaits! enjoy!\n",
      "the alchemist picked up a book that someone in the caravan had brought. leafing\n",
      "through the pages, he found a story about narcissus.\n",
      "the alchemist knew the legend of narcissus, a youth who knelt daily beside a lake to\n",
      "contemplate his own beauty. he was so fascinated by himself that, one morning, he fell\n",
      "into the lake and drowned. at the spot where he fell, a flower was born, which was called\n",
      "the narcissus.\n",
      "but this was not how the author of the book ended the story.\n",
      "he said that when narcissus died, the goddesses of the forest appeared and found the\n",
      "lake, which had been fresh water, transformed into a lake of salty tears.\n",
      "“why do you weep?” the goddesses asked.\n",
      "“i weep for narcissus,” the lake replied.\n",
      "“ah, it is no surprise that you weep for narcissus,” they said, “for though we always\n",
      "pursued him in the forest, you alone could contemplate his beauty close at hand.”\n",
      "“but...was narcissus beautiful?” the lake asked.\n",
      "“who better than you to know that?” the goddesses said in wonder. “after all, it was by\n",
      "your banks that he knelt each day to contemplate himself!”\n",
      "the lake was silent for some time. finally, it said:\n",
      "“i weep for narcissus, but i never noticed that narcissus was beautiful. i weep because,\n",
      "each time he knelt beside my banks, i could see, in the depths of his eyes, my own beauty\n",
      "reflected.”\n",
      "\n",
      "\f",
      "“what a lovely story,” the alchemist thought.\n",
      "the boy’s name was santiago. dusk was falling as the boy arrived with his herd at an\n",
      "abandoned church. the roof had fallen in long ago, and an enormous sycamore had\n",
      "grown on the spot where the sacristy had once stood.\n",
      "he decided to spend the night there, he saw to it that all the sheep entered through the\n",
      "ruined gate, and then laid some planks across it to prevent the flock from wandering\n",
      "away during the night.\n",
      "\"well, usually i learn more from my sheep than from books,\" he answered. during the\n",
      "two hours that they talked, she told him she was the merchant’s daughter, and spoke of\n",
      "life in the village, where each day was like all the others, the shepherd told her of the\n",
      "andalusian countryside, and related the news from the other towns where he had stopped.\n",
      "it was a pleasant change from talking to his sheep.\n",
      "we have to be prepared for change, he thought, and he was grateful for the jacket’s\n",
      "weight and warmth.\n",
      "the jacket had a purpose, and so did the boy. his purpose in life was to travel, and, after\n",
      "two years of walking the andalusian terrain, he knew all the cities of the region. he was\n",
      "planning, on this visit, to explain to the girl how it was that a simple shepherd knew how\n",
      "to read. that he had attended a seminary until he was sixteen. his parents had wanted\n",
      "him to become a priest...one afternoon, on a visit to his family, he had summoned up the\n",
      "courage to tell his father that he didn’t want to become a priest. that he wanted to travel.\n",
      "“people from all over the world have passed through this village, son,” said his father.\n",
      "“they come in search of new things, but when they leave they are basically the same\n",
      "people they were when they arrived, they climb the mountain to see the castle, and they\n",
      "wind up thinking that the past was better than what we have now.”\n",
      "“the people who come here have a lot of money to spend, so they can afford to travel,”\n",
      "his father said, “amongst us, the only ones who travel are the shepherds.”\n",
      "“well, then i’ll be a shepherd!”\n",
      "and he gave the boy his blessing, the boy could see in his father’s gaze a desire to be\n",
      "able, himself, to travel the world—a desire that was still alive, despite his father’s having\n",
      "had to bury it, over dozens of years, under the burden of struggling for water to drink,\n",
      "food to eat, and the same place to sleep every night of his life.\n",
      "\n",
      "\f",
      "he owned a jacket, a book that he could trade f\n"
     ]
    }
   ],
   "source": [
    "print(blob)"
   ]
  },
  {
   "cell_type": "markdown",
   "metadata": {},
   "source": [
    "### Separating all text in to sentences"
   ]
  },
  {
   "cell_type": "code",
   "execution_count": 136,
   "metadata": {},
   "outputs": [],
   "source": [
    "blob_sentences = blob.sentences"
   ]
  },
  {
   "cell_type": "code",
   "execution_count": 137,
   "metadata": {},
   "outputs": [
    {
     "data": {
      "text/plain": [
       "[Sentence(\"there are some books that go beyond being special.\"),\n",
       " Sentence(\"jonathan livingston seagull, the\n",
       " little prince, conversations with god and the prophet would all make the list.\"),\n",
       " Sentence(\"i’d like\n",
       " to add one more, the alchemist by paulo coelho.\"),\n",
       " Sentence(\"it is the story of santiago, a shepard in\n",
       " spain.\"),\n",
       " Sentence(\"he sets off to find a treasure by the pyramids in egypt that is spoken of in a\n",
       " reoccurring dream.\"),\n",
       " Sentence(\"a story as old as the pyramids themselves.\"),\n",
       " Sentence(\"along the way, he finds\n",
       " out that his journey is about discovering his personal legend, touching the soul of the\n",
       " world, and learning what love is really about; as well as getting the loot.\"),\n",
       " Sentence(\"we learn as we\n",
       " travel with santiago many of the valuable lessons of life, and uncover many of the\n",
       " mysteries.\"),\n",
       " Sentence(\"“the wise men understood that this natural world is only an image and a copy\n",
       " of paradise.\"),\n",
       " Sentence(\"the existence of this world is simply a guarantee that there exists a world\n",
       " that is perfect.\"),\n",
       " Sentence(\"god created the world so that, through its visible objects, men could\n",
       " understand his spiritual teachings and the marvels of his wisdom.” now come with\n",
       " santiago and me as we stroll the fields of spain, and ride on camel and horseback\n",
       " through the sands of the great african desert.\"),\n",
       " Sentence(\"and, learn as he did, “i’m an adventurer,\n",
       " looking for treasure.” the adventure awaits!\"),\n",
       " Sentence(\"enjoy!\"),\n",
       " Sentence(\"the alchemist picked up a book that someone in the caravan had brought.\"),\n",
       " Sentence(\"leafing\n",
       " through the pages, he found a story about narcissus.\"),\n",
       " Sentence(\"the alchemist knew the legend of narcissus, a youth who knelt daily beside a lake to\n",
       " contemplate his own beauty.\"),\n",
       " Sentence(\"he was so fascinated by himself that, one morning, he fell\n",
       " into the lake and drowned.\"),\n",
       " Sentence(\"at the spot where he fell, a flower was born, which was called\n",
       " the narcissus.\"),\n",
       " Sentence(\"but this was not how the author of the book ended the story.\"),\n",
       " Sentence(\"he said that when narcissus died, the goddesses of the forest appeared and found the\n",
       " lake, which had been fresh water, transformed into a lake of salty tears.\"),\n",
       " Sentence(\"“why do you weep?” the goddesses asked.\"),\n",
       " Sentence(\"“i weep for narcissus,” the lake replied.\"),\n",
       " Sentence(\"“ah, it is no surprise that you weep for narcissus,” they said, “for though we always\n",
       " pursued him in the forest, you alone could contemplate his beauty close at hand.”\n",
       " “but...was narcissus beautiful?” the lake asked.\"),\n",
       " Sentence(\"“who better than you to know that?” the goddesses said in wonder.\"),\n",
       " Sentence(\"“after all, it was by\n",
       " your banks that he knelt each day to contemplate himself!”\n",
       " the lake was silent for some time.\"),\n",
       " Sentence(\"finally, it said:\n",
       " “i weep for narcissus, but i never noticed that narcissus was beautiful.\"),\n",
       " Sentence(\"i weep because,\n",
       " each time he knelt beside my banks, i could see, in the depths of his eyes, my own beauty\n",
       " reflected.”\n",
       " \n",
       " \n",
       " “what a lovely story,” the alchemist thought.\"),\n",
       " Sentence(\"the boy’s name was santiago.\"),\n",
       " Sentence(\"dusk was falling as the boy arrived with his herd at an\n",
       " abandoned church.\"),\n",
       " Sentence(\"the roof had fallen in long ago, and an enormous sycamore had\n",
       " grown on the spot where the sacristy had once stood.\"),\n",
       " Sentence(\"he decided to spend the night there, he saw to it that all the sheep entered through the\n",
       " ruined gate, and then laid some planks across it to prevent the flock from wandering\n",
       " away during the night.\"),\n",
       " Sentence(\"\"well, usually i learn more from my sheep than from books,\" he answered.\"),\n",
       " Sentence(\"during the\n",
       " two hours that they talked, she told him she was the merchant’s daughter, and spoke of\n",
       " life in the village, where each day was like all the others, the shepherd told her of the\n",
       " andalusian countryside, and related the news from the other towns where he had stopped.\"),\n",
       " Sentence(\"it was a pleasant change from talking to his sheep.\"),\n",
       " Sentence(\"we have to be prepared for change, he thought, and he was grateful for the jacket’s\n",
       " weight and warmth.\"),\n",
       " Sentence(\"the jacket had a purpose, and so did the boy.\"),\n",
       " Sentence(\"his purpose in life was to travel, and, after\n",
       " two years of walking the andalusian terrain, he knew all the cities of the region.\"),\n",
       " Sentence(\"he was\n",
       " planning, on this visit, to explain to the girl how it was that a simple shepherd knew how\n",
       " to read.\"),\n",
       " Sentence(\"that he had attended a seminary until he was sixteen.\"),\n",
       " Sentence(\"his parents had wanted\n",
       " him to become a priest...one afternoon, on a visit to his family, he had summoned up the\n",
       " courage to tell his father that he didn’t want to become a priest.\"),\n",
       " Sentence(\"that he wanted to travel.\"),\n",
       " Sentence(\"“people from all over the world have passed through this village, son,” said his father.\"),\n",
       " Sentence(\"“they come in search of new things, but when they leave they are basically the same\n",
       " people they were when they arrived, they climb the mountain to see the castle, and they\n",
       " wind up thinking that the past was better than what we have now.”\n",
       " “the people who come here have a lot of money to spend, so they can afford to travel,”\n",
       " his father said, “amongst us, the only ones who travel are the shepherds.”\n",
       " “well, then i’ll be a shepherd!”\n",
       " and he gave the boy his blessing, the boy could see in his father’s gaze a desire to be\n",
       " able, himself, to travel the world—a desire that was still alive, despite his father’s having\n",
       " had to bury it, over dozens of years, under the burden of struggling for water to drink,\n",
       " food to eat, and the same place to sleep every night of his life.\"),\n",
       " Sentence(\"he owned a jacket, a book that he could trade f\")]"
      ]
     },
     "execution_count": 137,
     "metadata": {},
     "output_type": "execute_result"
    }
   ],
   "source": [
    "blob_sentences"
   ]
  },
  {
   "cell_type": "markdown",
   "metadata": {},
   "source": [
    "### Total 44 sentence with 5000 words"
   ]
  },
  {
   "cell_type": "code",
   "execution_count": 139,
   "metadata": {},
   "outputs": [
    {
     "data": {
      "text/plain": [
       "44"
      ]
     },
     "execution_count": 139,
     "metadata": {},
     "output_type": "execute_result"
    }
   ],
   "source": [
    "len(blob_sentences)"
   ]
  },
  {
   "cell_type": "markdown",
   "metadata": {},
   "source": [
    "### counting repeatation of words."
   ]
  },
  {
   "cell_type": "code",
   "execution_count": 140,
   "metadata": {},
   "outputs": [
    {
     "data": {
      "text/plain": [
       "collections.defaultdict"
      ]
     },
     "execution_count": 140,
     "metadata": {},
     "output_type": "execute_result"
    }
   ],
   "source": [
    "type(blob.word_counts)"
   ]
  },
  {
   "cell_type": "markdown",
   "metadata": {},
   "source": [
    "### N-gram (3 consecutive words)"
   ]
  },
  {
   "cell_type": "code",
   "execution_count": 150,
   "metadata": {},
   "outputs": [
    {
     "data": {
      "text/plain": [
       "[WordList(['there', 'are', 'some']),\n",
       " WordList(['are', 'some', 'books']),\n",
       " WordList(['some', 'books', 'that']),\n",
       " WordList(['books', 'that', 'go']),\n",
       " WordList(['that', 'go', 'beyond']),\n",
       " WordList(['go', 'beyond', 'being']),\n",
       " WordList(['beyond', 'being', 'special']),\n",
       " WordList(['being', 'special', 'jonathan']),\n",
       " WordList(['special', 'jonathan', 'livingston']),\n",
       " WordList(['jonathan', 'livingston', 'seagull']),\n",
       " WordList(['livingston', 'seagull', 'the']),\n",
       " WordList(['seagull', 'the', 'little']),\n",
       " WordList(['the', 'little', 'prince']),\n",
       " WordList(['little', 'prince', 'conversations']),\n",
       " WordList(['prince', 'conversations', 'with']),\n",
       " WordList(['conversations', 'with', 'god']),\n",
       " WordList(['with', 'god', 'and']),\n",
       " WordList(['god', 'and', 'the']),\n",
       " WordList(['and', 'the', 'prophet']),\n",
       " WordList(['the', 'prophet', 'would']),\n",
       " WordList(['prophet', 'would', 'all']),\n",
       " WordList(['would', 'all', 'make']),\n",
       " WordList(['all', 'make', 'the']),\n",
       " WordList(['make', 'the', 'list']),\n",
       " WordList(['the', 'list', 'i']),\n",
       " WordList(['list', 'i', '’']),\n",
       " WordList(['i', '’', 'd']),\n",
       " WordList(['’', 'd', 'like']),\n",
       " WordList(['d', 'like', 'to']),\n",
       " WordList(['like', 'to', 'add']),\n",
       " WordList(['to', 'add', 'one']),\n",
       " WordList(['add', 'one', 'more']),\n",
       " WordList(['one', 'more', 'the']),\n",
       " WordList(['more', 'the', 'alchemist']),\n",
       " WordList(['the', 'alchemist', 'by']),\n",
       " WordList(['alchemist', 'by', 'paulo']),\n",
       " WordList(['by', 'paulo', 'coelho']),\n",
       " WordList(['paulo', 'coelho', 'it']),\n",
       " WordList(['coelho', 'it', 'is']),\n",
       " WordList(['it', 'is', 'the']),\n",
       " WordList(['is', 'the', 'story']),\n",
       " WordList(['the', 'story', 'of']),\n",
       " WordList(['story', 'of', 'santiago']),\n",
       " WordList(['of', 'santiago', 'a']),\n",
       " WordList(['santiago', 'a', 'shepard']),\n",
       " WordList(['a', 'shepard', 'in']),\n",
       " WordList(['shepard', 'in', 'spain']),\n",
       " WordList(['in', 'spain', 'he']),\n",
       " WordList(['spain', 'he', 'sets']),\n",
       " WordList(['he', 'sets', 'off']),\n",
       " WordList(['sets', 'off', 'to']),\n",
       " WordList(['off', 'to', 'find']),\n",
       " WordList(['to', 'find', 'a']),\n",
       " WordList(['find', 'a', 'treasure']),\n",
       " WordList(['a', 'treasure', 'by']),\n",
       " WordList(['treasure', 'by', 'the']),\n",
       " WordList(['by', 'the', 'pyramids']),\n",
       " WordList(['the', 'pyramids', 'in']),\n",
       " WordList(['pyramids', 'in', 'egypt']),\n",
       " WordList(['in', 'egypt', 'that']),\n",
       " WordList(['egypt', 'that', 'is']),\n",
       " WordList(['that', 'is', 'spoken']),\n",
       " WordList(['is', 'spoken', 'of']),\n",
       " WordList(['spoken', 'of', 'in']),\n",
       " WordList(['of', 'in', 'a']),\n",
       " WordList(['in', 'a', 'reoccurring']),\n",
       " WordList(['a', 'reoccurring', 'dream']),\n",
       " WordList(['reoccurring', 'dream', 'a']),\n",
       " WordList(['dream', 'a', 'story']),\n",
       " WordList(['a', 'story', 'as']),\n",
       " WordList(['story', 'as', 'old']),\n",
       " WordList(['as', 'old', 'as']),\n",
       " WordList(['old', 'as', 'the']),\n",
       " WordList(['as', 'the', 'pyramids']),\n",
       " WordList(['the', 'pyramids', 'themselves']),\n",
       " WordList(['pyramids', 'themselves', 'along']),\n",
       " WordList(['themselves', 'along', 'the']),\n",
       " WordList(['along', 'the', 'way']),\n",
       " WordList(['the', 'way', 'he']),\n",
       " WordList(['way', 'he', 'finds']),\n",
       " WordList(['he', 'finds', 'out']),\n",
       " WordList(['finds', 'out', 'that']),\n",
       " WordList(['out', 'that', 'his']),\n",
       " WordList(['that', 'his', 'journey']),\n",
       " WordList(['his', 'journey', 'is']),\n",
       " WordList(['journey', 'is', 'about']),\n",
       " WordList(['is', 'about', 'discovering']),\n",
       " WordList(['about', 'discovering', 'his']),\n",
       " WordList(['discovering', 'his', 'personal']),\n",
       " WordList(['his', 'personal', 'legend']),\n",
       " WordList(['personal', 'legend', 'touching']),\n",
       " WordList(['legend', 'touching', 'the']),\n",
       " WordList(['touching', 'the', 'soul']),\n",
       " WordList(['the', 'soul', 'of']),\n",
       " WordList(['soul', 'of', 'the']),\n",
       " WordList(['of', 'the', 'world']),\n",
       " WordList(['the', 'world', 'and']),\n",
       " WordList(['world', 'and', 'learning']),\n",
       " WordList(['and', 'learning', 'what']),\n",
       " WordList(['learning', 'what', 'love'])]"
      ]
     },
     "execution_count": 150,
     "metadata": {},
     "output_type": "execute_result"
    }
   ],
   "source": [
    "# Printing only 100 worslist to avoid more scrolling\n",
    "\n",
    "blob.ngrams(3)[0:100]"
   ]
  },
  {
   "cell_type": "markdown",
   "metadata": {},
   "source": [
    "## POS (Part of Speech tagging)"
   ]
  },
  {
   "cell_type": "code",
   "execution_count": 153,
   "metadata": {},
   "outputs": [
    {
     "data": {
      "text/plain": [
       "[('there', 'EX'),\n",
       " ('are', 'VBP'),\n",
       " ('some', 'DT'),\n",
       " ('books', 'NNS'),\n",
       " ('that', 'IN'),\n",
       " ('go', 'VBP'),\n",
       " ('beyond', 'IN'),\n",
       " ('being', 'VBG'),\n",
       " ('special', 'JJ'),\n",
       " ('jonathan', 'NN'),\n",
       " ('livingston', 'NN'),\n",
       " ('seagull', 'NN'),\n",
       " ('the', 'DT'),\n",
       " ('little', 'JJ'),\n",
       " ('prince', 'NN'),\n",
       " ('conversations', 'NNS'),\n",
       " ('with', 'IN'),\n",
       " ('god', 'NN'),\n",
       " ('and', 'CC'),\n",
       " ('the', 'DT'),\n",
       " ('prophet', 'NN'),\n",
       " ('would', 'MD'),\n",
       " ('all', 'DT'),\n",
       " ('make', 'VB'),\n",
       " ('the', 'DT'),\n",
       " ('list', 'NN'),\n",
       " ('i', 'NN'),\n",
       " ('’', 'VBP'),\n",
       " ('d', 'NN'),\n",
       " ('like', 'IN'),\n",
       " ('to', 'TO'),\n",
       " ('add', 'VB'),\n",
       " ('one', 'CD'),\n",
       " ('more', 'JJR'),\n",
       " ('the', 'DT'),\n",
       " ('alchemist', 'NN'),\n",
       " ('by', 'IN'),\n",
       " ('paulo', 'NN'),\n",
       " ('coelho', 'NN'),\n",
       " ('it', 'PRP'),\n",
       " ('is', 'VBZ'),\n",
       " ('the', 'DT'),\n",
       " ('story', 'NN'),\n",
       " ('of', 'IN'),\n",
       " ('santiago', 'NN'),\n",
       " ('a', 'DT'),\n",
       " ('shepard', 'NN'),\n",
       " ('in', 'IN'),\n",
       " ('spain', 'NN'),\n",
       " ('he', 'PRP'),\n",
       " ('sets', 'VBZ'),\n",
       " ('off', 'IN'),\n",
       " ('to', 'TO'),\n",
       " ('find', 'VB'),\n",
       " ('a', 'DT'),\n",
       " ('treasure', 'NN'),\n",
       " ('by', 'IN'),\n",
       " ('the', 'DT'),\n",
       " ('pyramids', 'NNS'),\n",
       " ('in', 'IN'),\n",
       " ('egypt', 'NN'),\n",
       " ('that', 'WDT'),\n",
       " ('is', 'VBZ'),\n",
       " ('spoken', 'VBN'),\n",
       " ('of', 'IN'),\n",
       " ('in', 'IN'),\n",
       " ('a', 'DT'),\n",
       " ('reoccurring', 'NN'),\n",
       " ('dream', 'NN'),\n",
       " ('a', 'DT'),\n",
       " ('story', 'NN'),\n",
       " ('as', 'RB'),\n",
       " ('old', 'JJ'),\n",
       " ('as', 'IN'),\n",
       " ('the', 'DT'),\n",
       " ('pyramids', 'NNS'),\n",
       " ('themselves', 'PRP'),\n",
       " ('along', 'IN'),\n",
       " ('the', 'DT'),\n",
       " ('way', 'NN'),\n",
       " ('he', 'PRP'),\n",
       " ('finds', 'VBZ'),\n",
       " ('out', 'RP'),\n",
       " ('that', 'IN'),\n",
       " ('his', 'PRP$'),\n",
       " ('journey', 'NN'),\n",
       " ('is', 'VBZ'),\n",
       " ('about', 'IN'),\n",
       " ('discovering', 'VBG'),\n",
       " ('his', 'PRP$'),\n",
       " ('personal', 'JJ'),\n",
       " ('legend', 'NN'),\n",
       " ('touching', 'VBG'),\n",
       " ('the', 'DT'),\n",
       " ('soul', 'NN'),\n",
       " ('of', 'IN'),\n",
       " ('the', 'DT'),\n",
       " ('world', 'NN'),\n",
       " ('and', 'CC'),\n",
       " ('learning', 'VBG')]"
      ]
     },
     "execution_count": 153,
     "metadata": {},
     "output_type": "execute_result"
    }
   ],
   "source": [
    "# Printing only 100 worslist to avoid more scrolling\n",
    "\n",
    "blob.pos_tags[0:100]"
   ]
  },
  {
   "cell_type": "markdown",
   "metadata": {},
   "source": [
    "## Printing each sentence of entire book with polarity score (-ve sentiment or +ve sentiment)"
   ]
  },
  {
   "cell_type": "code",
   "execution_count": 158,
   "metadata": {},
   "outputs": [
    {
     "name": "stdout",
     "output_type": "stream",
     "text": [
      "----------------- Positive sentence ------------------------------------\n",
      "\n",
      "Sentence = there are some books that go beyond being special. => [Polarity = 0.35714285714285715] \n",
      "\n",
      "----------------- Negative sentence ------------------------------------\n",
      "\n",
      "Sentence = jonathan livingston seagull, the\n",
      "little prince, conversations with god and the prophet would all make the list. => [Polarity = -0.1875] \n",
      "\n",
      "----------------- Positive sentence ------------------------------------\n",
      "\n",
      "Sentence = i’d like\n",
      "to add one more, the alchemist by paulo coelho. => [Polarity = 0.5] \n",
      "\n",
      "----------------- Positive sentence ------------------------------------\n",
      "\n",
      "Sentence = a story as old as the pyramids themselves. => [Polarity = 0.1] \n",
      "\n",
      "----------------- Positive sentence ------------------------------------\n",
      "\n",
      "Sentence = along the way, he finds\n",
      "out that his journey is about discovering his personal legend, touching the soul of the\n",
      "world, and learning what love is really about; as well as getting the loot. => [Polarity = 0.3] \n",
      "\n",
      "----------------- Positive sentence ------------------------------------\n",
      "\n",
      "Sentence = we learn as we\n",
      "travel with santiago many of the valuable lessons of life, and uncover many of the\n",
      "mysteries. => [Polarity = 0.5] \n",
      "\n",
      "----------------- Positive sentence ------------------------------------\n",
      "\n",
      "Sentence = “the wise men understood that this natural world is only an image and a copy\n",
      "of paradise. => [Polarity = 0.26666666666666666] \n",
      "\n",
      "----------------- Positive sentence ------------------------------------\n",
      "\n",
      "Sentence = the existence of this world is simply a guarantee that there exists a world\n",
      "that is perfect. => [Polarity = 0.5] \n",
      "\n",
      "----------------- Positive sentence ------------------------------------\n",
      "\n",
      "Sentence = god created the world so that, through its visible objects, men could\n",
      "understand his spiritual teachings and the marvels of his wisdom.” now come with\n",
      "santiago and me as we stroll the fields of spain, and ride on camel and horseback\n",
      "through the sands of the great african desert. => [Polarity = 0.26666666666666666] \n",
      "\n",
      "----------------- Positive sentence ------------------------------------\n",
      "\n",
      "Sentence = enjoy! => [Polarity = 0.5] \n",
      "\n",
      "----------------- Positive sentence ------------------------------------\n",
      "\n",
      "Sentence = the alchemist knew the legend of narcissus, a youth who knelt daily beside a lake to\n",
      "contemplate his own beauty. => [Polarity = 0.3] \n",
      "\n",
      "----------------- Negative sentence ------------------------------------\n",
      "\n",
      "Sentence = he was so fascinated by himself that, one morning, he fell\n",
      "into the lake and drowned. => [Polarity = -0.1] \n",
      "\n",
      "----------------- Positive sentence ------------------------------------\n",
      "\n",
      "Sentence = he said that when narcissus died, the goddesses of the forest appeared and found the\n",
      "lake, which had been fresh water, transformed into a lake of salty tears. => [Polarity = 0.3] \n",
      "\n",
      "----------------- Positive sentence ------------------------------------\n",
      "\n",
      "Sentence = “ah, it is no surprise that you weep for narcissus,” they said, “for though we always\n",
      "pursued him in the forest, you alone could contemplate his beauty close at hand.”\n",
      "“but...was narcissus beautiful?” the lake asked. => [Polarity = 0.85] \n",
      "\n",
      "----------------- Positive sentence ------------------------------------\n",
      "\n",
      "Sentence = “who better than you to know that?” the goddesses said in wonder. => [Polarity = 0.5] \n",
      "\n",
      "----------------- Positive sentence ------------------------------------\n",
      "\n",
      "Sentence = finally, it said:\n",
      "“i weep for narcissus, but i never noticed that narcissus was beautiful. => [Polarity = 0.425] \n",
      "\n",
      "----------------- Positive sentence ------------------------------------\n",
      "\n",
      "Sentence = i weep because,\n",
      "each time he knelt beside my banks, i could see, in the depths of his eyes, my own beauty\n",
      "reflected.”\n",
      "\n",
      "\f",
      "“what a lovely story,” the alchemist thought. => [Polarity = 0.55] \n",
      "\n",
      "----------------- Negative sentence ------------------------------------\n",
      "\n",
      "Sentence = the roof had fallen in long ago, and an enormous sycamore had\n",
      "grown on the spot where the sacristy had once stood. => [Polarity = -0.025] \n",
      "\n",
      "----------------- Positive sentence ------------------------------------\n",
      "\n",
      "Sentence = \"well, usually i learn more from my sheep than from books,\" he answered. => [Polarity = 0.125] \n",
      "\n",
      "----------------- Negative sentence ------------------------------------\n",
      "\n",
      "Sentence = during the\n",
      "two hours that they talked, she told him she was the merchant’s daughter, and spoke of\n",
      "life in the village, where each day was like all the others, the shepherd told her of the\n",
      "andalusian countryside, and related the news from the other towns where he had stopped. => [Polarity = -0.0625] \n",
      "\n",
      "----------------- Positive sentence ------------------------------------\n",
      "\n",
      "Sentence = it was a pleasant change from talking to his sheep. => [Polarity = 0.7333333333333333] \n",
      "\n",
      "----------------- Positive sentence ------------------------------------\n",
      "\n",
      "Sentence = “they come in search of new things, but when they leave they are basically the same\n",
      "people they were when they arrived, they climb the mountain to see the castle, and they\n",
      "wind up thinking that the past was better than what we have now.”\n",
      "“the people who come here have a lot of money to spend, so they can afford to travel,”\n",
      "his father said, “amongst us, the only ones who travel are the shepherds.”\n",
      "“well, then i’ll be a shepherd!”\n",
      "and he gave the boy his blessing, the boy could see in his father’s gaze a desire to be\n",
      "able, himself, to travel the world—a desire that was still alive, despite his father’s having\n",
      "had to bury it, over dozens of years, under the burden of struggling for water to drink,\n",
      "food to eat, and the same place to sleep every night of his life. => [Polarity = 0.12329545454545454] \n",
      "\n"
     ]
    }
   ],
   "source": [
    "for s in blob_sentences:\n",
    "    \n",
    "    if s.polarity>0:\n",
    "        print(\"----------------- Positive sentence ------------------------------------\\n\")\n",
    "        print(f\"Sentence = {s} => [Polarity = {s.polarity}] \\n\")\n",
    "    elif s.polarity<0:\n",
    "        print(\"----------------- Negative sentence ------------------------------------\\n\")\n",
    "        print(f\"Sentence = {s} => [Polarity = {s.polarity}] \\n\")"
   ]
  },
  {
   "cell_type": "markdown",
   "metadata": {},
   "source": [
    "### Printing only Positive polarity sentences with polarity score."
   ]
  },
  {
   "cell_type": "code",
   "execution_count": 159,
   "metadata": {},
   "outputs": [
    {
     "name": "stdout",
     "output_type": "stream",
     "text": [
      "----- +ve POLARITY SENTENCES------\n",
      "----------------- Positive sentence ------------------------------------\n",
      "\n",
      "Sentence = there are some books that go beyond being special. => [Polarity = 0.35714285714285715] \n",
      "\n",
      "----------------- Positive sentence ------------------------------------\n",
      "\n",
      "Sentence = i’d like\n",
      "to add one more, the alchemist by paulo coelho. => [Polarity = 0.5] \n",
      "\n",
      "----------------- Positive sentence ------------------------------------\n",
      "\n",
      "Sentence = a story as old as the pyramids themselves. => [Polarity = 0.1] \n",
      "\n",
      "----------------- Positive sentence ------------------------------------\n",
      "\n",
      "Sentence = along the way, he finds\n",
      "out that his journey is about discovering his personal legend, touching the soul of the\n",
      "world, and learning what love is really about; as well as getting the loot. => [Polarity = 0.3] \n",
      "\n",
      "----------------- Positive sentence ------------------------------------\n",
      "\n",
      "Sentence = we learn as we\n",
      "travel with santiago many of the valuable lessons of life, and uncover many of the\n",
      "mysteries. => [Polarity = 0.5] \n",
      "\n",
      "----------------- Positive sentence ------------------------------------\n",
      "\n",
      "Sentence = “the wise men understood that this natural world is only an image and a copy\n",
      "of paradise. => [Polarity = 0.26666666666666666] \n",
      "\n",
      "----------------- Positive sentence ------------------------------------\n",
      "\n",
      "Sentence = the existence of this world is simply a guarantee that there exists a world\n",
      "that is perfect. => [Polarity = 0.5] \n",
      "\n",
      "----------------- Positive sentence ------------------------------------\n",
      "\n",
      "Sentence = god created the world so that, through its visible objects, men could\n",
      "understand his spiritual teachings and the marvels of his wisdom.” now come with\n",
      "santiago and me as we stroll the fields of spain, and ride on camel and horseback\n",
      "through the sands of the great african desert. => [Polarity = 0.26666666666666666] \n",
      "\n",
      "----------------- Positive sentence ------------------------------------\n",
      "\n",
      "Sentence = enjoy! => [Polarity = 0.5] \n",
      "\n",
      "----------------- Positive sentence ------------------------------------\n",
      "\n",
      "Sentence = the alchemist knew the legend of narcissus, a youth who knelt daily beside a lake to\n",
      "contemplate his own beauty. => [Polarity = 0.3] \n",
      "\n",
      "----------------- Positive sentence ------------------------------------\n",
      "\n",
      "Sentence = he said that when narcissus died, the goddesses of the forest appeared and found the\n",
      "lake, which had been fresh water, transformed into a lake of salty tears. => [Polarity = 0.3] \n",
      "\n",
      "----------------- Positive sentence ------------------------------------\n",
      "\n",
      "Sentence = “ah, it is no surprise that you weep for narcissus,” they said, “for though we always\n",
      "pursued him in the forest, you alone could contemplate his beauty close at hand.”\n",
      "“but...was narcissus beautiful?” the lake asked. => [Polarity = 0.85] \n",
      "\n",
      "----------------- Positive sentence ------------------------------------\n",
      "\n",
      "Sentence = “who better than you to know that?” the goddesses said in wonder. => [Polarity = 0.5] \n",
      "\n",
      "----------------- Positive sentence ------------------------------------\n",
      "\n",
      "Sentence = finally, it said:\n",
      "“i weep for narcissus, but i never noticed that narcissus was beautiful. => [Polarity = 0.425] \n",
      "\n",
      "----------------- Positive sentence ------------------------------------\n",
      "\n",
      "Sentence = i weep because,\n",
      "each time he knelt beside my banks, i could see, in the depths of his eyes, my own beauty\n",
      "reflected.”\n",
      "\n",
      "\f",
      "“what a lovely story,” the alchemist thought. => [Polarity = 0.55] \n",
      "\n",
      "----------------- Positive sentence ------------------------------------\n",
      "\n",
      "Sentence = \"well, usually i learn more from my sheep than from books,\" he answered. => [Polarity = 0.125] \n",
      "\n",
      "----------------- Positive sentence ------------------------------------\n",
      "\n",
      "Sentence = it was a pleasant change from talking to his sheep. => [Polarity = 0.7333333333333333] \n",
      "\n",
      "----------------- Positive sentence ------------------------------------\n",
      "\n",
      "Sentence = “they come in search of new things, but when they leave they are basically the same\n",
      "people they were when they arrived, they climb the mountain to see the castle, and they\n",
      "wind up thinking that the past was better than what we have now.”\n",
      "“the people who come here have a lot of money to spend, so they can afford to travel,”\n",
      "his father said, “amongst us, the only ones who travel are the shepherds.”\n",
      "“well, then i’ll be a shepherd!”\n",
      "and he gave the boy his blessing, the boy could see in his father’s gaze a desire to be\n",
      "able, himself, to travel the world—a desire that was still alive, despite his father’s having\n",
      "had to bury it, over dozens of years, under the burden of struggling for water to drink,\n",
      "food to eat, and the same place to sleep every night of his life. => [Polarity = 0.12329545454545454] \n",
      "\n"
     ]
    }
   ],
   "source": [
    "print(\"----- +ve POLARITY SENTENCES------\")\n",
    "for s in blob_sentences:\n",
    "     if s.polarity>0:\n",
    "        print(\"----------------- Positive sentence ------------------------------------\\n\")\n",
    "        print(f\"Sentence = {s} => [Polarity = {s.polarity}] \\n\")\n",
    "   "
   ]
  },
  {
   "cell_type": "markdown",
   "metadata": {},
   "source": [
    "### Printing only Negative polarity sentences with polarity score."
   ]
  },
  {
   "cell_type": "code",
   "execution_count": 160,
   "metadata": {},
   "outputs": [
    {
     "name": "stdout",
     "output_type": "stream",
     "text": [
      "----- -ve POLARITY SENTENCES------\n",
      "----------------- Negative sentence ------------------------------------\n",
      "\n",
      "Sentence = jonathan livingston seagull, the\n",
      "little prince, conversations with god and the prophet would all make the list. => [Polarity = -0.1875] \n",
      "\n",
      "----------------- Negative sentence ------------------------------------\n",
      "\n",
      "Sentence = he was so fascinated by himself that, one morning, he fell\n",
      "into the lake and drowned. => [Polarity = -0.1] \n",
      "\n",
      "----------------- Negative sentence ------------------------------------\n",
      "\n",
      "Sentence = the roof had fallen in long ago, and an enormous sycamore had\n",
      "grown on the spot where the sacristy had once stood. => [Polarity = -0.025] \n",
      "\n",
      "----------------- Negative sentence ------------------------------------\n",
      "\n",
      "Sentence = during the\n",
      "two hours that they talked, she told him she was the merchant’s daughter, and spoke of\n",
      "life in the village, where each day was like all the others, the shepherd told her of the\n",
      "andalusian countryside, and related the news from the other towns where he had stopped. => [Polarity = -0.0625] \n",
      "\n"
     ]
    }
   ],
   "source": [
    "print(\"----- -ve POLARITY SENTENCES------\")\n",
    "for s in blob_sentences:\n",
    "    \n",
    "    if s.polarity<0:\n",
    "        print(\"----------------- Negative sentence ------------------------------------\\n\")\n",
    "        print(f\"Sentence = {s} => [Polarity = {s.polarity}] \\n\")"
   ]
  },
  {
   "cell_type": "code",
   "execution_count": null,
   "metadata": {},
   "outputs": [],
   "source": []
  }
 ],
 "metadata": {
  "kernelspec": {
   "display_name": "Python 3",
   "language": "python",
   "name": "python3"
  },
  "language_info": {
   "codemirror_mode": {
    "name": "ipython",
    "version": 3
   },
   "file_extension": ".py",
   "mimetype": "text/x-python",
   "name": "python",
   "nbconvert_exporter": "python",
   "pygments_lexer": "ipython3",
   "version": "3.7.3"
  }
 },
 "nbformat": 4,
 "nbformat_minor": 2
}
